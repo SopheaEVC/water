{
  "nbformat": 4,
  "nbformat_minor": 0,
  "metadata": {
    "colab": {
      "provenance": [],
      "authorship_tag": "ABX9TyNeWnGN1q+5NwFxD6pcChZq",
      "include_colab_link": true
    },
    "kernelspec": {
      "name": "ir",
      "display_name": "R"
    },
    "language_info": {
      "name": "R"
    }
  },
  "cells": [
    {
      "cell_type": "markdown",
      "metadata": {
        "id": "view-in-github",
        "colab_type": "text"
      },
      "source": [
        "<a href=\"https://colab.research.google.com/github/SopheaEVC/water/blob/main/waterFlow.ipynb\" target=\"_parent\"><img src=\"https://colab.research.google.com/assets/colab-badge.svg\" alt=\"Open In Colab\"/></a>"
      ]
    },
    {
      "cell_type": "markdown",
      "source": [
        "- The [dataRetrieval package in R](https://cran.r-project.org/web/packages/dataRetrieval/dataRetrieval.pdf) developed by [USGS](https://waterdata.usgs.gov/blog/moving-averages/)."
      ],
      "metadata": {
        "id": "EvOhCzbNoUFy"
      }
    },
    {
      "cell_type": "code",
      "execution_count": null,
      "metadata": {
        "id": "XDhnKsVgntA-"
      },
      "outputs": [],
      "source": [
        "# code source: https://waterdata.usgs.gov/blog/moving-averages/\n",
        "library(tidyverse)\n",
        "library(dataRetrieval)"
      ]
    },
    {
      "cell_type": "code",
      "source": [
        "# Retrieve daily Q\n",
        "siteNumber <- c(\"01538000\")\n",
        "parameterCd <- \"00060\"\n",
        "dailyQ <- readNWISdv(siteNumber, parameterCd)\n",
        "dailyQ <- renameNWISColumns(dailyQ)\n",
        "siteinfo <- readNWISsite(siteNumber)\n"
      ],
      "metadata": {
        "id": "DH-7toNroFSt"
      },
      "execution_count": null,
      "outputs": []
    },
    {
      "cell_type": "markdown",
      "source": [
        "### Calculate moving average\n",
        "\n",
        "- The objective of this section is to calculate the moving average on all the flow data.\n",
        "\n"
      ],
      "metadata": {
        "id": "aLdny8ACp19o"
      }
    },
    {
      "cell_type": "code",
      "source": [
        "# Checking for missing days\n",
        "glimpse(dailyQ)"
      ],
      "metadata": {
        "colab": {
          "base_uri": "https://localhost:8080/"
        },
        "id": "aQtqHKx6psXx",
        "outputId": "858b21d8-f700-4bde-baeb-34f068cc47cb"
      },
      "execution_count": null,
      "outputs": [
        {
          "output_type": "stream",
          "name": "stdout",
          "text": [
            "Rows: 38,200\n",
            "Columns: 5\n",
            "$ agency_cd \u001b[3m\u001b[90m<chr>\u001b[39m\u001b[23m \"USGS\", \"USGS\", \"USGS\", \"USGS\", \"USGS\", \"USGS\", \"USGS\", \"USG…\n",
            "$ site_no   \u001b[3m\u001b[90m<chr>\u001b[39m\u001b[23m \"01538000\", \"01538000\", \"01538000\", \"01538000\", \"01538000\", …\n",
            "$ Date      \u001b[3m\u001b[90m<date>\u001b[39m\u001b[23m 1919-10-01, 1919-10-02, 1919-10-03, 1919-10-04, 1919-10-05,…\n",
            "$ Flow      \u001b[3m\u001b[90m<dbl>\u001b[39m\u001b[23m 25, 25, 25, 25, 25, 30, 30, 30, 30, 30, 30, 35, 38, 44, 50, …\n",
            "$ Flow_cd   \u001b[3m\u001b[90m<chr>\u001b[39m\u001b[23m \"A\", \"A\", \"A\", \"A\", \"A\", \"A\", \"A\", \"A\", \"A\", \"A\", \"A\", \"A\", …\n"
          ]
        }
      ]
    },
    {
      "cell_type": "code",
      "source": [
        "range(dailyQ$Date)\n",
        "diff(range(dailyQ$Date))\n",
        "as.numeric(diff(range(dailyQ$Date))) # return a numeric\n",
        "nrow(dailyQ)"
      ],
      "metadata": {
        "colab": {
          "base_uri": "https://localhost:8080/",
          "height": 86
        },
        "id": "9gk7iUXjqvaL",
        "outputId": "f883b576-954c-4ad2-a1cb-6d594ce94e33"
      },
      "execution_count": null,
      "outputs": [
        {
          "output_type": "display_data",
          "data": {
            "text/html": [
              "<style>\n",
              ".list-inline {list-style: none; margin:0; padding: 0}\n",
              ".list-inline>li {display: inline-block}\n",
              ".list-inline>li:not(:last-child)::after {content: \"\\00b7\"; padding: 0 .5ex}\n",
              "</style>\n",
              "<ol class=list-inline><li><time datetime=\"1919-10-01\">1919-10-01</time></li><li><time datetime=\"2024-05-01\">2024-05-01</time></li></ol>\n"
            ],
            "text/markdown": "1. 1919-10-01\n2. 2024-05-01\n\n\n",
            "text/latex": "\\begin{enumerate*}\n\\item 1919-10-01\n\\item 2024-05-01\n\\end{enumerate*}\n",
            "text/plain": [
              "[1] \"1919-10-01\" \"2024-05-01\""
            ]
          },
          "metadata": {}
        },
        {
          "output_type": "display_data",
          "data": {
            "text/plain": [
              "Time difference of 38199 days"
            ]
          },
          "metadata": {}
        },
        {
          "output_type": "display_data",
          "data": {
            "text/html": [
              "38199"
            ],
            "text/markdown": "38199",
            "text/latex": "38199",
            "text/plain": [
              "[1] 38199"
            ]
          },
          "metadata": {}
        },
        {
          "output_type": "display_data",
          "data": {
            "text/html": [
              "38200"
            ],
            "text/markdown": "38200",
            "text/latex": "38200",
            "text/plain": [
              "[1] 38200"
            ]
          },
          "metadata": {}
        }
      ]
    },
    {
      "cell_type": "code",
      "source": [
        "if(as.numeric(diff(range(dailyQ$Date))) != (nrow(dailyQ)+1)){\n",
        "    fullDates <- seq(\n",
        "        from = min(dailyQ$Date),\n",
        "        to = max(dailyQ$Date),\n",
        "        by = '1 day'\n",
        "    )\n",
        "    fullDates <- data.frame(\n",
        "        Date = fullDates,\n",
        "        agency_cd = dailyQ$agency_cd[1],\n",
        "        site_no = dailyQ$site_no,\n",
        "        stringsAsFactors = FALSE\n",
        "    )\n",
        "    dailyQ <- full_join(\n",
        "        dailyQ,\n",
        "        fullDates,\n",
        "        by = c(\"Date\", \"agency_cd\", \"site_no\")\n",
        "    ) %>%\n",
        "      arrange(Date)\n",
        "}\n",
        "glimpse(dailyQ)"
      ],
      "metadata": {
        "colab": {
          "base_uri": "https://localhost:8080/"
        },
        "id": "ta82xKdOr95F",
        "outputId": "d3b4dfd8-193b-4922-854a-7192e56fa4ed"
      },
      "execution_count": null,
      "outputs": [
        {
          "output_type": "stream",
          "name": "stdout",
          "text": [
            "Rows: 38,200\n",
            "Columns: 5\n",
            "$ agency_cd \u001b[3m\u001b[90m<chr>\u001b[39m\u001b[23m \"USGS\", \"USGS\", \"USGS\", \"USGS\", \"USGS\", \"USGS\", \"USGS\", \"USG…\n",
            "$ site_no   \u001b[3m\u001b[90m<chr>\u001b[39m\u001b[23m \"01538000\", \"01538000\", \"01538000\", \"01538000\", \"01538000\", …\n",
            "$ Date      \u001b[3m\u001b[90m<date>\u001b[39m\u001b[23m 1919-10-01, 1919-10-02, 1919-10-03, 1919-10-04, 1919-10-05,…\n",
            "$ Flow      \u001b[3m\u001b[90m<dbl>\u001b[39m\u001b[23m 25, 25, 25, 25, 25, 30, 30, 30, 30, 30, 30, 35, 38, 44, 50, …\n",
            "$ Flow_cd   \u001b[3m\u001b[90m<chr>\u001b[39m\u001b[23m \"A\", \"A\", \"A\", \"A\", \"A\", \"A\", \"A\", \"A\", \"A\", \"A\", \"A\", \"A\", …\n"
          ]
        }
      ]
    },
    {
      "cell_type": "markdown",
      "source": [
        "- To calculate a **rolling average**, add up all the data in a set and divide the total by the time period. For example, to calculate a **30-day rolling average**, add up the data from the past **30 days and divide by 30**."
      ],
      "metadata": {
        "id": "XBuif3Pszzaa"
      }
    },
    {
      "cell_type": "code",
      "source": [
        "ma <- function(x,n=30){stats::filter(x,rep(1/n,n), sides=1)} #repeat 1/n for 30 times\n",
        "dailyQ <- dailyQ %>%\n",
        "  mutate(\n",
        "  rollMean = as.numeric(ma(Flow)),\n",
        "  day.of.year = as.numeric(strftime(\n",
        "    Date,\n",
        "    format = '%j'\n",
        "  ))\n",
        "  )\n",
        "glimpse(dailyQ)\n",
        "\n"
      ],
      "metadata": {
        "colab": {
          "base_uri": "https://localhost:8080/"
        },
        "id": "rlfDE38gt41X",
        "outputId": "bed1c641-89a0-46f5-dd24-00d73e78c16f"
      },
      "execution_count": null,
      "outputs": [
        {
          "output_type": "stream",
          "name": "stdout",
          "text": [
            "Rows: 38,200\n",
            "Columns: 7\n",
            "$ agency_cd   \u001b[3m\u001b[90m<chr>\u001b[39m\u001b[23m \"USGS\", \"USGS\", \"USGS\", \"USGS\", \"USGS\", \"USGS\", \"USGS\", \"U…\n",
            "$ site_no     \u001b[3m\u001b[90m<chr>\u001b[39m\u001b[23m \"01538000\", \"01538000\", \"01538000\", \"01538000\", \"01538000\"…\n",
            "$ Date        \u001b[3m\u001b[90m<date>\u001b[39m\u001b[23m 1919-10-01, 1919-10-02, 1919-10-03, 1919-10-04, 1919-10-0…\n",
            "$ Flow        \u001b[3m\u001b[90m<dbl>\u001b[39m\u001b[23m 25, 25, 25, 25, 25, 30, 30, 30, 30, 30, 30, 35, 38, 44, 50…\n",
            "$ Flow_cd     \u001b[3m\u001b[90m<chr>\u001b[39m\u001b[23m \"A\", \"A\", \"A\", \"A\", \"A\", \"A\", \"A\", \"A\", \"A\", \"A\", \"A\", \"A\"…\n",
            "$ rollMean    \u001b[3m\u001b[90m<dbl>\u001b[39m\u001b[23m NA, NA, NA, NA, NA, NA, NA, NA, NA, NA, NA, NA, NA, NA, NA…\n",
            "$ day.of.year \u001b[3m\u001b[90m<dbl>\u001b[39m\u001b[23m 274, 275, 276, 277, 278, 279, 280, 281, 282, 283, 284, 285…\n"
          ]
        }
      ]
    },
    {
      "cell_type": "markdown",
      "source": [
        "### Calculate historical percentiles"
      ],
      "metadata": {
        "id": "nQ5hZnxrzOwH"
      }
    },
    {
      "cell_type": "code",
      "source": [
        "summaryQ <- dailyQ %>%\n",
        "  group_by(day.of.year) %>%\n",
        "  summarize(\n",
        "  p75 = quantile(rollMean, probs = .75, na.rm = TRUE),\n",
        "  p25 = quantile(rollMean, probs = .25, na.rm = TRUE),\n",
        "  p10 = quantile(rollMean, probs = .1, na.rm = TRUE),\n",
        "  p05 = quantile(rollMean, probs = .05, na.rm = TRUE),\n",
        "  p00 = quantile(rollMean, probs = 0, na.rm = TRUE)\n",
        "  )\n",
        "\n",
        "current.year <- as.numeric(strftime(Sys.Date(), format = \"%y\")) # time conversion\n",
        "summary.0 <- summaryQ %>%\n",
        "  mutate(\n",
        "  Date = as.Date(day.of.year - 1, origin = paste0(current.year, '-01-01')),\n",
        "  day.of.year = day.of.year + 365\n",
        "  )\n",
        "summary.1 <- summaryQ %>%\n",
        "  mutate(\n",
        "  Date = as.Date(\n",
        "    day.of.year -1 ,\n",
        "    origin = paste0(current.year, '-01-01')\n",
        "  ),\n",
        "  day.of.year = day.of.year + 365\n",
        "  )\n"
      ],
      "metadata": {
        "id": "50-GbLLn0IAZ"
      },
      "execution_count": null,
      "outputs": []
    },
    {
      "cell_type": "code",
      "source": [],
      "metadata": {
        "id": "btY5mbqHupNb"
      },
      "execution_count": null,
      "outputs": []
    }
  ]
}